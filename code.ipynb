{
 "cells": [
  {
   "cell_type": "code",
   "execution_count": 2,
   "id": "ee7ac7ba-20f3-474d-aac0-4288dc6d8cb9",
   "metadata": {},
   "outputs": [],
   "source": [
    "import  pandas as pd\n",
    "import numpy as np"
   ]
  },
  {
   "cell_type": "code",
   "execution_count": 3,
   "id": "367b4870-4f69-4a16-89a8-0695cf20cefe",
   "metadata": {},
   "outputs": [],
   "source": [
    "df = pd.read_csv('sentimentdataset.csv')"
   ]
  },
  {
   "cell_type": "code",
   "execution_count": 4,
   "id": "12061af4-fc5d-4b01-b693-9609b2f6cfc0",
   "metadata": {},
   "outputs": [
    {
     "data": {
      "text/plain": [
       "Index(['Unnamed: 0.1', 'Unnamed: 0', 'Text', 'Sentiment', 'Timestamp', 'User',\n",
       "       'Platform', 'Hashtags', 'Retweets', 'Likes', 'Country', 'Year', 'Month',\n",
       "       'Day', 'Hour'],\n",
       "      dtype='object')"
      ]
     },
     "execution_count": 4,
     "metadata": {},
     "output_type": "execute_result"
    }
   ],
   "source": [
    "df.columns"
   ]
  },
  {
   "cell_type": "code",
   "execution_count": 5,
   "id": "bf581003-d430-4ba0-8836-bb739fbd1e7b",
   "metadata": {},
   "outputs": [],
   "source": [
    "df = df.drop(['Unnamed: 0.1', 'Unnamed: 0'], axis=1)"
   ]
  },
  {
   "cell_type": "code",
   "execution_count": 6,
   "id": "a9468e37-2ed3-47c3-99a2-2f0d31aefae0",
   "metadata": {},
   "outputs": [
    {
     "name": "stdout",
     "output_type": "stream",
     "text": [
      "<class 'pandas.core.frame.DataFrame'>\n",
      "RangeIndex: 732 entries, 0 to 731\n",
      "Data columns (total 13 columns):\n",
      " #   Column     Non-Null Count  Dtype  \n",
      "---  ------     --------------  -----  \n",
      " 0   Text       732 non-null    object \n",
      " 1   Sentiment  732 non-null    object \n",
      " 2   Timestamp  732 non-null    object \n",
      " 3   User       732 non-null    object \n",
      " 4   Platform   732 non-null    object \n",
      " 5   Hashtags   732 non-null    object \n",
      " 6   Retweets   732 non-null    float64\n",
      " 7   Likes      732 non-null    float64\n",
      " 8   Country    732 non-null    object \n",
      " 9   Year       732 non-null    int64  \n",
      " 10  Month      732 non-null    int64  \n",
      " 11  Day        732 non-null    int64  \n",
      " 12  Hour       732 non-null    int64  \n",
      "dtypes: float64(2), int64(4), object(7)\n",
      "memory usage: 74.5+ KB\n"
     ]
    }
   ],
   "source": [
    "df.info()"
   ]
  },
  {
   "cell_type": "code",
   "execution_count": 7,
   "id": "851c9e1f-a5fe-48b3-9190-e40613064d0f",
   "metadata": {},
   "outputs": [
    {
     "data": {
      "text/plain": [
       "Text         707\n",
       "Sentiment    279\n",
       "Timestamp    683\n",
       "User         685\n",
       "Platform       4\n",
       "Hashtags     697\n",
       "Retweets      26\n",
       "Likes         38\n",
       "Country      115\n",
       "Year          14\n",
       "Month         12\n",
       "Day           31\n",
       "Hour          22\n",
       "dtype: int64"
      ]
     },
     "execution_count": 7,
     "metadata": {},
     "output_type": "execute_result"
    }
   ],
   "source": [
    "df.nunique()"
   ]
  },
  {
   "cell_type": "code",
   "execution_count": 8,
   "id": "36f5838d-e2c2-4ef2-b5ca-d835cb098050",
   "metadata": {},
   "outputs": [
    {
     "data": {
      "text/plain": [
       "(732, 13)"
      ]
     },
     "execution_count": 8,
     "metadata": {},
     "output_type": "execute_result"
    }
   ],
   "source": [
    "df.shape"
   ]
  },
  {
   "cell_type": "code",
   "execution_count": 9,
   "id": "f14b3566-782f-4db5-8147-8fc610eab456",
   "metadata": {},
   "outputs": [
    {
     "data": {
      "text/plain": [
       "(732, 13)"
      ]
     },
     "execution_count": 9,
     "metadata": {},
     "output_type": "execute_result"
    }
   ],
   "source": [
    "df.drop_duplicates()\n",
    "df.shape"
   ]
  },
  {
   "cell_type": "code",
   "execution_count": 20,
   "id": "ece4636a-1cc6-4973-80ab-ec85c179d77b",
   "metadata": {},
   "outputs": [],
   "source": [
    "df['Timestamp'] = pd.to_datetime(df['Timestamp'])\n",
    "df['Day'] = df['Timestamp'].dt.day\n",
    "df['Month'] = df['Timestamp'].dt.month\n",
    "df['Year'] = df['Timestamp'].dt.year\n",
    "df['Text']= df['Text'].str.strip()\n",
    "df['Sentiment']= df['Sentiment'].str.strip()\n",
    "df['User']= df['User'].str.strip()\n",
    "df['Platform']= df['Platform'].str.strip()\n",
    "df['Hashtags']= df['Hashtags'].str.strip()\n",
    "df['Country']= df['Country'].str.strip()"
   ]
  },
  {
   "cell_type": "code",
   "execution_count": 22,
   "id": "26354d19-9efd-4bfc-ab1f-df9cc87662bd",
   "metadata": {},
   "outputs": [],
   "source": [
    "df.to_csv('Sentiment Dataset.csv', index=False)"
   ]
  },
  {
   "cell_type": "code",
   "execution_count": null,
   "id": "16decf44-1244-4ec8-a47e-98f88c43fd2f",
   "metadata": {},
   "outputs": [],
   "source": []
  }
 ],
 "metadata": {
  "kernelspec": {
   "display_name": "Python 3 (ipykernel)",
   "language": "python",
   "name": "python3"
  },
  "language_info": {
   "codemirror_mode": {
    "name": "ipython",
    "version": 3
   },
   "file_extension": ".py",
   "mimetype": "text/x-python",
   "name": "python",
   "nbconvert_exporter": "python",
   "pygments_lexer": "ipython3",
   "version": "3.12.4"
  }
 },
 "nbformat": 4,
 "nbformat_minor": 5
}
